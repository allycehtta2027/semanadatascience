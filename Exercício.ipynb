{
 "cells": [
  {
   "cell_type": "code",
   "execution_count": null,
   "metadata": {},
   "outputs": [],
   "source": [
    "# ATIVIDADE"
   ]
  },
  {
   "cell_type": "markdown",
   "metadata": {},
   "source": [
    "# WiDS2024|Challenge2|Submissions"
   ]
  },
  {
   "cell_type": "code",
   "execution_count": null,
   "metadata": {},
   "outputs": [],
   "source": [
    "importar pandas as "
   ]
  },
  {
   "cell_type": "markdown",
   "metadata": {},
   "source": [
    "Submission file for ensembling from the code forums\n",
    "About Dataset\n",
    "\n",
    "This dataset is created for my blender kernel at the WiDS Challenge 2- 2024. I collate some good public work from the code forums across kernel versions and place them here for convenience.\n",
    "\n",
    "I shall use these dataset files to blend and fuse and illustrate a convenient ensembling process herewith.\n",
    "\n",
    "Wishing all the participants the best for the challenge!\n",
    "Key links-\n",
    "\n",
    "Competition overview - https://www.kaggle.com/competitions/widsdatathon2024-challenge2\n",
    "\n",
    "Code forums - https://www.kaggle.com/competitions/widsdatathon2024-challenge2/code "
   ]
  }
 ],
 "metadata": {
  "language_info": {
   "name": "python"
  }
 },
 "nbformat": 4,
 "nbformat_minor": 2
}
